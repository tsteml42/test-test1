{
 "cells": [
  {
   "cell_type": "markdown",
   "metadata": {},
   "source": [
    "## Icebreaker: Using a decision tree to predict the type of computer a student owns."
   ]
  },
  {
   "cell_type": "markdown",
   "metadata": {},
   "source": [
    "## Importing libraries "
   ]
  },
  {
   "cell_type": "code",
   "execution_count": 1,
   "metadata": {
    "collapsed": false,
    "scrolled": false
   },
   "outputs": [],
   "source": [
    "from sklearn import tree\n",
    "import numpy as np\n",
    "import pandas as pd \n",
    "from IPython.display import display, Image"
   ]
  },
  {
   "cell_type": "markdown",
   "metadata": {},
   "source": [
    "## Importing dataset"
   ]
  },
  {
   "cell_type": "code",
   "execution_count": 14,
   "metadata": {
    "collapsed": false
   },
   "outputs": [
    {
     "name": "stdout",
     "output_type": "stream",
     "text": [
      "Number of students: 21\n"
     ]
    },
    {
     "data": {
      "text/html": [
       "<div>\n",
       "<table border=\"1\" class=\"dataframe\">\n",
       "  <thead>\n",
       "    <tr style=\"text-align: right;\">\n",
       "      <th></th>\n",
       "      <th>Timestamp</th>\n",
       "      <th>name</th>\n",
       "      <th>why_nanodegree</th>\n",
       "      <th>something_interesting</th>\n",
       "      <th>price</th>\n",
       "      <th>configurations</th>\n",
       "      <th>gaming</th>\n",
       "      <th>security</th>\n",
       "      <th>designing</th>\n",
       "      <th>type_of_computer</th>\n",
       "    </tr>\n",
       "  </thead>\n",
       "  <tbody>\n",
       "    <tr>\n",
       "      <th>0</th>\n",
       "      <td>2/11/2017 10:29:43</td>\n",
       "      <td>ganesh</td>\n",
       "      <td>want to obtain hands on experience</td>\n",
       "      <td>NaN</td>\n",
       "      <td>2</td>\n",
       "      <td>2</td>\n",
       "      <td>2</td>\n",
       "      <td>1</td>\n",
       "      <td>1</td>\n",
       "      <td>mac</td>\n",
       "    </tr>\n",
       "  </tbody>\n",
       "</table>\n",
       "</div>"
      ],
      "text/plain": [
       "            Timestamp     name                      why_nanodegree  \\\n",
       "0  2/11/2017 10:29:43  ganesh   want to obtain hands on experience   \n",
       "\n",
       "  something_interesting  price  configurations  gaming   security  designing  \\\n",
       "0                   NaN      2               2        2         1          1   \n",
       "\n",
       "  type_of_computer  \n",
       "0              mac  "
      ]
     },
     "metadata": {},
     "output_type": "display_data"
    }
   ],
   "source": [
    "\n",
    "in_file = 'students.csv'\n",
    "students = pd.read_csv(in_file)\n",
    "\n",
    "print(\"Number of students: {}\".format(len(students)))\n",
    "\n",
    "display(students.head(1))\n"
   ]
  },
  {
   "cell_type": "markdown",
   "metadata": {},
   "source": [
    "## Separating test dataset"
   ]
  },
  {
   "cell_type": "code",
   "execution_count": 5,
   "metadata": {
    "collapsed": false
   },
   "outputs": [
    {
     "name": "stdout",
     "output_type": "stream",
     "text": [
      "Training dataset size:19\n"
     ]
    },
    {
     "data": {
      "text/html": [
       "<div>\n",
       "<table border=\"1\" class=\"dataframe\">\n",
       "  <thead>\n",
       "    <tr style=\"text-align: right;\">\n",
       "      <th></th>\n",
       "      <th>Timestamp</th>\n",
       "      <th>name</th>\n",
       "      <th>why_nanodegree</th>\n",
       "      <th>something_interesting</th>\n",
       "      <th>price</th>\n",
       "      <th>configurations</th>\n",
       "      <th>gaming</th>\n",
       "      <th>security</th>\n",
       "      <th>designing</th>\n",
       "      <th>type_of_computer</th>\n",
       "    </tr>\n",
       "  </thead>\n",
       "  <tbody>\n",
       "    <tr>\n",
       "      <th>0</th>\n",
       "      <td>2/11/2017 10:29:43</td>\n",
       "      <td>ganesh</td>\n",
       "      <td>want to obtain hands on experience</td>\n",
       "      <td>NaN</td>\n",
       "      <td>2</td>\n",
       "      <td>2</td>\n",
       "      <td>2</td>\n",
       "      <td>1</td>\n",
       "      <td>1</td>\n",
       "      <td>mac</td>\n",
       "    </tr>\n",
       "  </tbody>\n",
       "</table>\n",
       "</div>"
      ],
      "text/plain": [
       "            Timestamp     name                      why_nanodegree  \\\n",
       "0  2/11/2017 10:29:43  ganesh   want to obtain hands on experience   \n",
       "\n",
       "  something_interesting  price  configurations  gaming   security  designing  \\\n",
       "0                   NaN      2               2        2         1          1   \n",
       "\n",
       "  type_of_computer  \n",
       "0              mac  "
      ]
     },
     "metadata": {},
     "output_type": "display_data"
    },
    {
     "name": "stdout",
     "output_type": "stream",
     "text": [
      "Testing dataset size:2\n"
     ]
    },
    {
     "data": {
      "text/html": [
       "<div>\n",
       "<table border=\"1\" class=\"dataframe\">\n",
       "  <thead>\n",
       "    <tr style=\"text-align: right;\">\n",
       "      <th></th>\n",
       "      <th>Timestamp</th>\n",
       "      <th>name</th>\n",
       "      <th>why_nanodegree</th>\n",
       "      <th>something_interesting</th>\n",
       "      <th>price</th>\n",
       "      <th>configurations</th>\n",
       "      <th>gaming</th>\n",
       "      <th>security</th>\n",
       "      <th>designing</th>\n",
       "      <th>type_of_computer</th>\n",
       "    </tr>\n",
       "  </thead>\n",
       "  <tbody>\n",
       "    <tr>\n",
       "      <th>10</th>\n",
       "      <td>2/11/2017 10:34:01</td>\n",
       "      <td>Subhakar</td>\n",
       "      <td>Understand the workings of Machine Learning</td>\n",
       "      <td>Applying machine learning to network management</td>\n",
       "      <td>2</td>\n",
       "      <td>1</td>\n",
       "      <td>2</td>\n",
       "      <td>2</td>\n",
       "      <td>1</td>\n",
       "      <td>pc</td>\n",
       "    </tr>\n",
       "    <tr>\n",
       "      <th>18</th>\n",
       "      <td>2/11/2017 10:35:12</td>\n",
       "      <td>Radesh</td>\n",
       "      <td>interesting field to get in.</td>\n",
       "      <td>like to run long distance</td>\n",
       "      <td>2</td>\n",
       "      <td>2</td>\n",
       "      <td>2</td>\n",
       "      <td>2</td>\n",
       "      <td>2</td>\n",
       "      <td>mac</td>\n",
       "    </tr>\n",
       "  </tbody>\n",
       "</table>\n",
       "</div>"
      ],
      "text/plain": [
       "             Timestamp      name                               why_nanodegree  \\\n",
       "10  2/11/2017 10:34:01  Subhakar  Understand the workings of Machine Learning   \n",
       "18  2/11/2017 10:35:12    Radesh                 interesting field to get in.   \n",
       "\n",
       "                              something_interesting  price  configurations  \\\n",
       "10  Applying machine learning to network management      2               1   \n",
       "18                        like to run long distance      2               2   \n",
       "\n",
       "    gaming   security  designing type_of_computer  \n",
       "10        2         2          1               pc  \n",
       "18        2         2          2              mac  "
      ]
     },
     "metadata": {},
     "output_type": "display_data"
    }
   ],
   "source": [
    "train_data = students[(students.name != 'Subhakar') & (students.name != 'Radesh')]\n",
    "test_data = students[(students.name == 'Subhakar') | (students.name == 'Radesh')]\n",
    "\n",
    "print(\"Training dataset size:{}\".format(len(train_data)))\n",
    "display(train_data.head(1))\n",
    "\n",
    "print(\"Testing dataset size:{}\".format(len(test_data)))\n",
    "display(test_data.head(2))"
   ]
  },
  {
   "cell_type": "markdown",
   "metadata": {},
   "source": [
    "## Remove columns"
   ]
  },
  {
   "cell_type": "code",
   "execution_count": 6,
   "metadata": {
    "collapsed": false
   },
   "outputs": [
    {
     "data": {
      "text/html": [
       "<div>\n",
       "<table border=\"1\" class=\"dataframe\">\n",
       "  <thead>\n",
       "    <tr style=\"text-align: right;\">\n",
       "      <th></th>\n",
       "      <th>price</th>\n",
       "      <th>configurations</th>\n",
       "      <th>gaming</th>\n",
       "      <th>security</th>\n",
       "      <th>designing</th>\n",
       "      <th>type_of_computer</th>\n",
       "    </tr>\n",
       "  </thead>\n",
       "  <tbody>\n",
       "    <tr>\n",
       "      <th>0</th>\n",
       "      <td>2</td>\n",
       "      <td>2</td>\n",
       "      <td>2</td>\n",
       "      <td>1</td>\n",
       "      <td>1</td>\n",
       "      <td>mac</td>\n",
       "    </tr>\n",
       "    <tr>\n",
       "      <th>1</th>\n",
       "      <td>1</td>\n",
       "      <td>2</td>\n",
       "      <td>2</td>\n",
       "      <td>2</td>\n",
       "      <td>2</td>\n",
       "      <td>mac</td>\n",
       "    </tr>\n",
       "    <tr>\n",
       "      <th>2</th>\n",
       "      <td>2</td>\n",
       "      <td>2</td>\n",
       "      <td>2</td>\n",
       "      <td>2</td>\n",
       "      <td>1</td>\n",
       "      <td>pc</td>\n",
       "    </tr>\n",
       "    <tr>\n",
       "      <th>3</th>\n",
       "      <td>1</td>\n",
       "      <td>2</td>\n",
       "      <td>2</td>\n",
       "      <td>1</td>\n",
       "      <td>2</td>\n",
       "      <td>mac</td>\n",
       "    </tr>\n",
       "    <tr>\n",
       "      <th>4</th>\n",
       "      <td>1</td>\n",
       "      <td>1</td>\n",
       "      <td>2</td>\n",
       "      <td>1</td>\n",
       "      <td>2</td>\n",
       "      <td>mac</td>\n",
       "    </tr>\n",
       "  </tbody>\n",
       "</table>\n",
       "</div>"
      ],
      "text/plain": [
       "   price  configurations  gaming   security  designing type_of_computer\n",
       "0      2               2        2         1          1              mac\n",
       "1      1               2        2         2          2              mac\n",
       "2      2               2        2         2          1               pc\n",
       "3      1               2        2         1          2              mac\n",
       "4      1               1        2         1          2              mac"
      ]
     },
     "metadata": {},
     "output_type": "display_data"
    }
   ],
   "source": [
    "\n",
    "train_data = train_data.drop(['Timestamp', 'name','why_nanodegree','something_interesting'], axis=1)\n",
    "\n",
    "display(train_data.head(5))\n"
   ]
  },
  {
   "cell_type": "markdown",
   "metadata": {},
   "source": [
    "## Separating the target variable - training data"
   ]
  },
  {
   "cell_type": "code",
   "execution_count": 7,
   "metadata": {
    "collapsed": false,
    "scrolled": true
   },
   "outputs": [
    {
     "name": "stdout",
     "output_type": "stream",
     "text": [
      "Target dataset size:19\n"
     ]
    },
    {
     "data": {
      "text/plain": [
       "0    mac\n",
       "1    mac\n",
       "2     pc\n",
       "3    mac\n",
       "4    mac\n",
       "Name: type_of_computer, dtype: object"
      ]
     },
     "metadata": {},
     "output_type": "display_data"
    },
    {
     "name": "stdout",
     "output_type": "stream",
     "text": [
      "\n",
      "Predictor dataset size:19\n"
     ]
    },
    {
     "data": {
      "text/html": [
       "<div>\n",
       "<table border=\"1\" class=\"dataframe\">\n",
       "  <thead>\n",
       "    <tr style=\"text-align: right;\">\n",
       "      <th></th>\n",
       "      <th>price</th>\n",
       "      <th>configurations</th>\n",
       "      <th>gaming</th>\n",
       "      <th>security</th>\n",
       "      <th>designing</th>\n",
       "    </tr>\n",
       "  </thead>\n",
       "  <tbody>\n",
       "    <tr>\n",
       "      <th>0</th>\n",
       "      <td>2</td>\n",
       "      <td>2</td>\n",
       "      <td>2</td>\n",
       "      <td>1</td>\n",
       "      <td>1</td>\n",
       "    </tr>\n",
       "  </tbody>\n",
       "</table>\n",
       "</div>"
      ],
      "text/plain": [
       "   price  configurations  gaming   security  designing\n",
       "0      2               2        2         1          1"
      ]
     },
     "metadata": {},
     "output_type": "display_data"
    }
   ],
   "source": [
    "train_target = train_data['type_of_computer']\n",
    "train_predictors = train_data.drop('type_of_computer', axis = 1)\n",
    "\n",
    "print(\"Target dataset size:{}\".format(len(train_target)))\n",
    "display(train_target.head(5))\n",
    "\n",
    "print(\"\\nPredictor dataset size:{}\".format(len(train_predictors)))\n",
    "display(train_predictors.head(1))"
   ]
  },
  {
   "cell_type": "markdown",
   "metadata": {},
   "source": [
    "## Separating the target variable - test data"
   ]
  },
  {
   "cell_type": "code",
   "execution_count": 8,
   "metadata": {
    "collapsed": false,
    "scrolled": true
   },
   "outputs": [
    {
     "name": "stdout",
     "output_type": "stream",
     "text": [
      "Target dataset size:2\n"
     ]
    },
    {
     "data": {
      "text/plain": [
       "10     pc\n",
       "18    mac\n",
       "Name: type_of_computer, dtype: object"
      ]
     },
     "metadata": {},
     "output_type": "display_data"
    },
    {
     "name": "stdout",
     "output_type": "stream",
     "text": [
      "\n",
      "Predictor dataset size:2\n"
     ]
    },
    {
     "data": {
      "text/html": [
       "<div>\n",
       "<table border=\"1\" class=\"dataframe\">\n",
       "  <thead>\n",
       "    <tr style=\"text-align: right;\">\n",
       "      <th></th>\n",
       "      <th>Timestamp</th>\n",
       "      <th>name</th>\n",
       "      <th>why_nanodegree</th>\n",
       "      <th>something_interesting</th>\n",
       "      <th>price</th>\n",
       "      <th>configurations</th>\n",
       "      <th>gaming</th>\n",
       "      <th>security</th>\n",
       "      <th>designing</th>\n",
       "    </tr>\n",
       "  </thead>\n",
       "  <tbody>\n",
       "    <tr>\n",
       "      <th>10</th>\n",
       "      <td>2/11/2017 10:34:01</td>\n",
       "      <td>Subhakar</td>\n",
       "      <td>Understand the workings of Machine Learning</td>\n",
       "      <td>Applying machine learning to network management</td>\n",
       "      <td>2</td>\n",
       "      <td>1</td>\n",
       "      <td>2</td>\n",
       "      <td>2</td>\n",
       "      <td>1</td>\n",
       "    </tr>\n",
       "    <tr>\n",
       "      <th>18</th>\n",
       "      <td>2/11/2017 10:35:12</td>\n",
       "      <td>Radesh</td>\n",
       "      <td>interesting field to get in.</td>\n",
       "      <td>like to run long distance</td>\n",
       "      <td>2</td>\n",
       "      <td>2</td>\n",
       "      <td>2</td>\n",
       "      <td>2</td>\n",
       "      <td>2</td>\n",
       "    </tr>\n",
       "  </tbody>\n",
       "</table>\n",
       "</div>"
      ],
      "text/plain": [
       "             Timestamp      name                               why_nanodegree  \\\n",
       "10  2/11/2017 10:34:01  Subhakar  Understand the workings of Machine Learning   \n",
       "18  2/11/2017 10:35:12    Radesh                 interesting field to get in.   \n",
       "\n",
       "                              something_interesting  price  configurations  \\\n",
       "10  Applying machine learning to network management      2               1   \n",
       "18                        like to run long distance      2               2   \n",
       "\n",
       "    gaming   security  designing  \n",
       "10        2         2          1  \n",
       "18        2         2          2  "
      ]
     },
     "metadata": {},
     "output_type": "display_data"
    }
   ],
   "source": [
    "test_target = test_data['type_of_computer']\n",
    "test_predictors = test_data.drop('type_of_computer', axis = 1)\n",
    "\n",
    "print(\"Target dataset size:{}\".format(len(test_target)))\n",
    "display(test_target.head(5))\n",
    "\n",
    "print(\"\\nPredictor dataset size:{}\".format(len(test_predictors)))\n",
    "display(test_predictors.head())"
   ]
  },
  {
   "cell_type": "markdown",
   "metadata": {},
   "source": [
    "## Building the Decision Tree Classifier "
   ]
  },
  {
   "cell_type": "code",
   "execution_count": 10,
   "metadata": {
    "collapsed": false
   },
   "outputs": [],
   "source": [
    "clf = tree.DecisionTreeClassifier()\n",
    "clf = clf.fit(train_predictors, train_target)\n"
   ]
  },
  {
   "cell_type": "markdown",
   "metadata": {},
   "source": [
    "## Retrieving test data"
   ]
  },
  {
   "cell_type": "code",
   "execution_count": 11,
   "metadata": {
    "collapsed": false
   },
   "outputs": [
    {
     "name": "stdout",
     "output_type": "stream",
     "text": [
      "\n",
      "Student test data:2\n"
     ]
    },
    {
     "data": {
      "text/html": [
       "<div>\n",
       "<table border=\"1\" class=\"dataframe\">\n",
       "  <thead>\n",
       "    <tr style=\"text-align: right;\">\n",
       "      <th></th>\n",
       "      <th>Timestamp</th>\n",
       "      <th>name</th>\n",
       "      <th>why_nanodegree</th>\n",
       "      <th>something_interesting</th>\n",
       "      <th>price</th>\n",
       "      <th>configurations</th>\n",
       "      <th>gaming</th>\n",
       "      <th>security</th>\n",
       "      <th>designing</th>\n",
       "    </tr>\n",
       "  </thead>\n",
       "  <tbody>\n",
       "    <tr>\n",
       "      <th>10</th>\n",
       "      <td>2/11/2017 10:34:01</td>\n",
       "      <td>Subhakar</td>\n",
       "      <td>Understand the workings of Machine Learning</td>\n",
       "      <td>Applying machine learning to network management</td>\n",
       "      <td>2</td>\n",
       "      <td>1</td>\n",
       "      <td>2</td>\n",
       "      <td>2</td>\n",
       "      <td>1</td>\n",
       "    </tr>\n",
       "    <tr>\n",
       "      <th>18</th>\n",
       "      <td>2/11/2017 10:35:12</td>\n",
       "      <td>Radesh</td>\n",
       "      <td>interesting field to get in.</td>\n",
       "      <td>like to run long distance</td>\n",
       "      <td>2</td>\n",
       "      <td>2</td>\n",
       "      <td>2</td>\n",
       "      <td>2</td>\n",
       "      <td>2</td>\n",
       "    </tr>\n",
       "  </tbody>\n",
       "</table>\n",
       "</div>"
      ],
      "text/plain": [
       "             Timestamp      name                               why_nanodegree  \\\n",
       "10  2/11/2017 10:34:01  Subhakar  Understand the workings of Machine Learning   \n",
       "18  2/11/2017 10:35:12    Radesh                 interesting field to get in.   \n",
       "\n",
       "                              something_interesting  price  configurations  \\\n",
       "10  Applying machine learning to network management      2               1   \n",
       "18                        like to run long distance      2               2   \n",
       "\n",
       "    gaming   security  designing  \n",
       "10        2         2          1  \n",
       "18        2         2          2  "
      ]
     },
     "metadata": {},
     "output_type": "display_data"
    }
   ],
   "source": [
    "print(\"\\nStudent test data:{}\".format(len(test_predictors)))\n",
    "display(test_predictors.head(3))\n",
    "student_test_data_final = [test_predictors]"
   ]
  },
  {
   "cell_type": "markdown",
   "metadata": {},
   "source": [
    "## Making predictions "
   ]
  },
  {
   "cell_type": "code",
   "execution_count": 12,
   "metadata": {
    "collapsed": false,
    "scrolled": false
   },
   "outputs": [
    {
     "name": "stdout",
     "output_type": "stream",
     "text": [
      "Predicted type of student 1's computer: mac\n",
      "Predicted type of student 2's computer: mac\n",
      " \n",
      "Actual type of student 1's computer: pc\n",
      "Actual type of student 2's computer: mac\n"
     ]
    }
   ],
   "source": [
    "student_test_data = [[2, 1, 2, 2, 1], # Student 1\n",
    "                     [2, 2, 2, 2, 2]] # Student 2\n",
    "             \n",
    "\n",
    "\n",
    "for i, computer in enumerate(clf.predict(student_test_data)):\n",
    "    print \"Predicted type of student {}'s computer: {}\".format(i+1, computer)\n",
    "\n",
    "print \" \"\n",
    "\n",
    "for i, actual in enumerate((test_target)):\n",
    "    print \"Actual type of student {}'s computer: {}\".format(i+1, actual)b"
   ]
  },
  {
   "cell_type": "code",
   "execution_count": 17,
   "metadata": {
    "collapsed": false,
    "scrolled": true
   },
   "outputs": [
    {
     "data": {
      "text/plain": [
       "DecisionTreeClassifier(class_weight=None, criterion='gini', max_depth=None,\n",
       "            max_features=None, max_leaf_nodes=None,\n",
       "            min_impurity_split=1e-07, min_samples_leaf=1,\n",
       "            min_samples_split=2, min_weight_fraction_leaf=0.0,\n",
       "            presort=False, random_state=None, splitter='best')"
      ]
     },
     "execution_count": 17,
     "metadata": {},
     "output_type": "execute_result"
    }
   ],
   "source": [
    "(clf)\n"
   ]
  },
  {
   "cell_type": "code",
   "execution_count": 19,
   "metadata": {
    "collapsed": false
   },
   "outputs": [
    {
     "data": {
      "text/plain": [
       "array([ 0.3559322 ,  0.39564165,  0.        ,  0.        ,  0.24842615])"
      ]
     },
     "execution_count": 19,
     "metadata": {},
     "output_type": "execute_result"
    }
   ],
   "source": [
    "clf.feature_importances_"
   ]
  }
 ],
 "metadata": {
  "kernelspec": {
   "display_name": "Python 2",
   "language": "python",
   "name": "python2"
  },
  "language_info": {
   "codemirror_mode": {
    "name": "ipython",
    "version": 2
   },
   "file_extension": ".py",
   "mimetype": "text/x-python",
   "name": "python",
   "nbconvert_exporter": "python",
   "pygments_lexer": "ipython2",
   "version": "2.7.13"
  }
 },
 "nbformat": 4,
 "nbformat_minor": 2
}
